{
  "nbformat": 4,
  "nbformat_minor": 0,
  "metadata": {
    "colab": {
      "name": "ARIMA.ipynb",
      "provenance": [],
      "collapsed_sections": [],
      "include_colab_link": true
    },
    "kernelspec": {
      "name": "python3",
      "display_name": "Python 3"
    }
  },
  "cells": [
    {
      "cell_type": "markdown",
      "metadata": {
        "id": "view-in-github",
        "colab_type": "text"
      },
      "source": [
        "<a href=\"https://colab.research.google.com/github/revanwabale/AI_WORKS_COLAB/blob/master/TimeSeries_Forecasting_And_ARIMA_models_in_Python.ipynb\" target=\"_parent\"><img src=\"https://colab.research.google.com/assets/colab-badge.svg\" alt=\"Open In Colab\"/></a>"
      ]
    },
    {
      "cell_type": "markdown",
      "metadata": {
        "id": "F-z6y1lQ5E2M"
      },
      "source": [
        "# Task One: Time Series and Explanatory Data Analysis"
      ]
    },
    {
      "cell_type": "markdown",
      "metadata": {
        "id": "6aT2Uuja9TQV"
      },
      "source": [
        "__Data and Dataset__:\r\n",
        "\r\n",
        "* Shampoo Sales Dataset : monthly number of sales of shampoo over a 3 year period.\r\n",
        "* Minimum Daily Temperatures Dataset : minimum daily temperatures over 10 years (1981-1990) in the city Melbourne, Australia.\r\n",
        "* Monthly Sunspot Dataset : monthly count of the number of observed sunspots for just over 230 years (1749-1983)."
      ]
    },
    {
      "cell_type": "code",
      "metadata": {
        "id": "ccJXzd7U7WJP"
      },
      "source": [
        "import pandas as pd\r\n",
        "import matplotlib.pyplot as plt\r\n",
        "\r\n",
        "\r\n",
        "df = pd.read_csv('/content/sample_data/Sunspots.csv', index_col=0) "
      ],
      "execution_count": 1,
      "outputs": []
    },
    {
      "cell_type": "code",
      "metadata": {
        "id": "UN6CcBz57WRf",
        "colab": {
          "base_uri": "https://localhost:8080/",
          "height": 204
        },
        "outputId": "3d7e98ae-9173-40f7-df6f-3b4e41adef6f"
      },
      "source": [
        "df.head()"
      ],
      "execution_count": 6,
      "outputs": [
        {
          "output_type": "execute_result",
          "data": {
            "text/html": [
              "<div>\n",
              "<style scoped>\n",
              "    .dataframe tbody tr th:only-of-type {\n",
              "        vertical-align: middle;\n",
              "    }\n",
              "\n",
              "    .dataframe tbody tr th {\n",
              "        vertical-align: top;\n",
              "    }\n",
              "\n",
              "    .dataframe thead th {\n",
              "        text-align: right;\n",
              "    }\n",
              "</style>\n",
              "<table border=\"1\" class=\"dataframe\">\n",
              "  <thead>\n",
              "    <tr style=\"text-align: right;\">\n",
              "      <th></th>\n",
              "      <th>Date</th>\n",
              "      <th>Monthly Mean Total Sunspot Number</th>\n",
              "    </tr>\n",
              "  </thead>\n",
              "  <tbody>\n",
              "    <tr>\n",
              "      <th>0</th>\n",
              "      <td>1749-01-31</td>\n",
              "      <td>96.7</td>\n",
              "    </tr>\n",
              "    <tr>\n",
              "      <th>1</th>\n",
              "      <td>1749-02-28</td>\n",
              "      <td>104.3</td>\n",
              "    </tr>\n",
              "    <tr>\n",
              "      <th>2</th>\n",
              "      <td>1749-03-31</td>\n",
              "      <td>116.7</td>\n",
              "    </tr>\n",
              "    <tr>\n",
              "      <th>3</th>\n",
              "      <td>1749-04-30</td>\n",
              "      <td>92.8</td>\n",
              "    </tr>\n",
              "    <tr>\n",
              "      <th>4</th>\n",
              "      <td>1749-05-31</td>\n",
              "      <td>141.7</td>\n",
              "    </tr>\n",
              "  </tbody>\n",
              "</table>\n",
              "</div>"
            ],
            "text/plain": [
              "         Date  Monthly Mean Total Sunspot Number\n",
              "0  1749-01-31                               96.7\n",
              "1  1749-02-28                              104.3\n",
              "2  1749-03-31                              116.7\n",
              "3  1749-04-30                               92.8\n",
              "4  1749-05-31                              141.7"
            ]
          },
          "metadata": {
            "tags": []
          },
          "execution_count": 6
        }
      ]
    },
    {
      "cell_type": "code",
      "metadata": {
        "id": "JGA1zq_H7WZJ",
        "colab": {
          "base_uri": "https://localhost:8080/",
          "height": 238
        },
        "outputId": "d0a40626-7ddb-4968-cec8-fd80d43c2494"
      },
      "source": [
        "df.plot(figsize = (16,5), grid = True)"
      ],
      "execution_count": 7,
      "outputs": [
        {
          "output_type": "execute_result",
          "data": {
            "text/plain": [
              "<matplotlib.axes._subplots.AxesSubplot at 0x7ff44fffa630>"
            ]
          },
          "metadata": {
            "tags": []
          },
          "execution_count": 7
        },
        {
          "output_type": "display_data",
          "data": {
            "image/png": "[encoded data removed]",
            "text/plain": [
              "<Figure size 1152x360 with 1 Axes>"
            ]
          },
          "metadata": {
            "tags": [],
            "needs_background": "light"
          }
        }
      ]
    },
    {
      "cell_type": "code",
      "metadata": {
        "id": "HA6bNUm57XaV",
        "colab": {
          "base_uri": "https://localhost:8080/",
          "height": 235
        },
        "outputId": "86a4a29a-5085-427e-c718-863790c2f2e6"
      },
      "source": [
        "df1 = pd.read_csv('/content/sample_data/shampoo.csv', index_col=0) \r\n",
        "df1.head()\r\n"
      ],
      "execution_count": 2,
      "outputs": [
        {
          "output_type": "execute_result",
          "data": {
            "text/html": [
              "<div>\n",
              "<style scoped>\n",
              "    .dataframe tbody tr th:only-of-type {\n",
              "        vertical-align: middle;\n",
              "    }\n",
              "\n",
              "    .dataframe tbody tr th {\n",
              "        vertical-align: top;\n",
              "    }\n",
              "\n",
              "    .dataframe thead th {\n",
              "        text-align: right;\n",
              "    }\n",
              "</style>\n",
              "<table border=\"1\" class=\"dataframe\">\n",
              "  <thead>\n",
              "    <tr style=\"text-align: right;\">\n",
              "      <th></th>\n",
              "      <th>Sales</th>\n",
              "    </tr>\n",
              "    <tr>\n",
              "      <th>Month</th>\n",
              "      <th></th>\n",
              "    </tr>\n",
              "  </thead>\n",
              "  <tbody>\n",
              "    <tr>\n",
              "      <th>1-01</th>\n",
              "      <td>266.0</td>\n",
              "    </tr>\n",
              "    <tr>\n",
              "      <th>1-02</th>\n",
              "      <td>145.9</td>\n",
              "    </tr>\n",
              "    <tr>\n",
              "      <th>1-03</th>\n",
              "      <td>183.1</td>\n",
              "    </tr>\n",
              "    <tr>\n",
              "      <th>1-04</th>\n",
              "      <td>119.3</td>\n",
              "    </tr>\n",
              "    <tr>\n",
              "      <th>1-05</th>\n",
              "      <td>180.3</td>\n",
              "    </tr>\n",
              "  </tbody>\n",
              "</table>\n",
              "</div>"
            ],
            "text/plain": [
              "       Sales\n",
              "Month       \n",
              "1-01   266.0\n",
              "1-02   145.9\n",
              "1-03   183.1\n",
              "1-04   119.3\n",
              "1-05   180.3"
            ]
          },
          "metadata": {
            "tags": []
          },
          "execution_count": 2
        }
      ]
    },
    {
      "cell_type": "code",
      "metadata": {
        "colab": {
          "base_uri": "https://localhost:8080/",
          "height": 247
        },
        "id": "2scAVrTCBLMA",
        "outputId": "721a50d8-b37c-4b13-fc75-a2d8adbb77af"
      },
      "source": [
        "df1.plot(figsize = (16, 5))"
      ],
      "execution_count": 11,
      "outputs": [
        {
          "output_type": "execute_result",
          "data": {
            "text/plain": [
              "<matplotlib.axes._subplots.AxesSubplot at 0x7ff44e2656d8>"
            ]
          },
          "metadata": {
            "tags": []
          },
          "execution_count": 11
        },
        {
          "output_type": "display_data",
          "data": {
            "image/png": "[encoded data removed]",
            "text/plain": [
              "<Figure size 1152x360 with 1 Axes>"
            ]
          },
          "metadata": {
            "tags": [],
            "needs_background": "light"
          }
        }
      ]
    },
    {
      "cell_type": "markdown",
      "metadata": {
        "id": "1fmHx9Q19Hny"
      },
      "source": [
        "__SARIMA(p, d, q)(P, D, Q, s):__"
      ]
    },
    {
      "cell_type": "markdown",
      "metadata": {
        "id": "HqgJ1KcY980r"
      },
      "source": [
        "* __Autoregression - AR(p):__\n",
        "Y = B0 + B1*Y_lag1 + B2*Y_lag2 + ... + Bn*Y_lagn"
      ]
    },
    {
      "cell_type": "markdown",
      "metadata": {
        "id": "wfVy_1BT-7-C"
      },
      "source": [
        "* __Moving Average - MA(q):__ Y = B0 + B1*E_lag1 + B2*E_lag2 + ... + Bn*E_lagn"
      ]
    },
    {
      "cell_type": "markdown",
      "metadata": {
        "id": "UhrDDV70-iXi"
      },
      "source": [
        "* __Integrated - (d)__: Y_forward1 - Y = B0 + B1*(Y - Y_lag1) + B2*(Y_lag1 - Y_lag2) +.."
      ]
    },
    {
      "cell_type": "markdown",
      "metadata": {
        "id": "hPWVXxuYFTCS"
      },
      "source": [
        "__Example: ARMA(1,0,1)__\r\n",
        "\r\n",
        "y(t )= 0.5 * y(t −1) + 0.2 * ϵ(t−1(+ ϵt)"
      ]
    },
    {
      "cell_type": "code",
      "metadata": {
        "id": "gSTbJvyg7Zl7",
        "colab": {
          "base_uri": "https://localhost:8080/",
          "height": 282
        },
        "outputId": "891d536a-89a4-4eea-a96b-3c2aba769a79"
      },
      "source": [
        "from statsmodels.tsa.arima_process import arma_generate_sample\r\n",
        "\r\n",
        "ar_cof = [1, 0.5]\r\n",
        "ma_cof = [1, 0.2]\r\n",
        "\r\n",
        "y = arma_generate_sample(ar_cof, ma_cof, nsample = 100)\r\n",
        "\r\n",
        "plt.plot(y)"
      ],
      "execution_count": 13,
      "outputs": [
        {
          "output_type": "execute_result",
          "data": {
            "text/plain": [
              "[<matplotlib.lines.Line2D at 0x7ff4371c8b00>]"
            ]
          },
          "metadata": {
            "tags": []
          },
          "execution_count": 13
        },
        {
          "output_type": "display_data",
          "data": {
            "image/png": "[encoded data removed]",
            "text/plain": [
              "<Figure size 432x288 with 1 Axes>"
            ]
          },
          "metadata": {
            "tags": [],
            "needs_background": "light"
          }
        }
      ]
    },
    {
      "cell_type": "code",
      "metadata": {
        "id": "E60fiOAp7ZwF"
      },
      "source": [
        ""
      ],
      "execution_count": null,
      "outputs": []
    },
    {
      "cell_type": "code",
      "metadata": {
        "id": "Voiqc-_j7Z-v"
      },
      "source": [
        ""
      ],
      "execution_count": null,
      "outputs": []
    },
    {
      "cell_type": "markdown",
      "metadata": {
        "id": "jS06euiL5PGB"
      },
      "source": [
        "# Task Two: Stationarity and ADF Test"
      ]
    },
    {
      "cell_type": "markdown",
      "metadata": {
        "id": "1v0vWvVq_gTc"
      },
      "source": [
        "\r\n",
        "- Time Series is said to be stationary if its statistical properties such as mean, variance remain constant over time \r\n",
        "- ADF : The augmented Dicky-Fuller test:\r\n",
        "\r\n",
        " Null Hypothesis: Series is not stationary\r\n",
        "\r\n",
        " Alternate Hypothesis: Series is stationary"
      ]
    },
    {
      "cell_type": "code",
      "metadata": {
        "id": "y-a6tmPi7c8M",
        "colab": {
          "base_uri": "https://localhost:8080/"
        },
        "outputId": "b3701afb-d949-4fa6-8006-ed25ed08e935"
      },
      "source": [
        "from statsmodels.tsa.stattools import adfuller\r\n",
        "\r\n",
        "adfuller(df['Monthly Mean Total Sunspot Number'])"
      ],
      "execution_count": 14,
      "outputs": [
        {
          "output_type": "execute_result",
          "data": {
            "text/plain": [
              "(-10.480868432669842,\n",
              " 1.2147141586504938e-18,\n",
              " 28,\n",
              " 3223,\n",
              " {'1%': -3.4323805665026175,\n",
              "  '10%': -2.5672475896829807,\n",
              "  '5%': -2.8624371819849372},\n",
              " 29726.17960863342)"
            ]
          },
          "metadata": {
            "tags": []
          },
          "execution_count": 14
        }
      ]
    },
    {
      "cell_type": "code",
      "metadata": {
        "id": "BkA4fxdU7dEf"
      },
      "source": [
        ""
      ],
      "execution_count": null,
      "outputs": []
    },
    {
      "cell_type": "code",
      "metadata": {
        "id": "tiz49pdN7dPU",
        "colab": {
          "base_uri": "https://localhost:8080/"
        },
        "outputId": "8ffa848b-2c73-41c7-b568-f2f97bec59d4"
      },
      "source": [
        "adfuller(df1['Sales'])"
      ],
      "execution_count": 16,
      "outputs": [
        {
          "output_type": "execute_result",
          "data": {
            "text/plain": [
              "(3.0601420836411797,\n",
              " 1.0,\n",
              " 10,\n",
              " 25,\n",
              " {'1%': -3.7238633119999998, '10%': -2.6328004, '5%': -2.98648896},\n",
              " 278.99726442630316)"
            ]
          },
          "metadata": {
            "tags": []
          },
          "execution_count": 16
        }
      ]
    },
    {
      "cell_type": "markdown",
      "metadata": {
        "id": "MRwWnFg1ADRZ"
      },
      "source": [
        "__Result:__ \r\n",
        "\r\n",
        "* 0th element is test statistic ,more negative means more likely to be stationary\r\n",
        "\r\n",
        "* 1st element is p-value\r\n",
        "If p-value is small→reject null hypothesis. Reject non-stationary.\r\n",
        "\r\n",
        "* 2nd lags used\r\n",
        "\r\n",
        "* 3d num of observations\r\n",
        "\r\n",
        "* 4th element is the critical test statistics"
      ]
    },
    {
      "cell_type": "markdown",
      "metadata": {
        "id": "oAvEgDmMAtcQ"
      },
      "source": [
        "__Making a time series stationary:__\r\n",
        "Taking the difference Δyt = yt − yt−1"
      ]
    },
    {
      "cell_type": "code",
      "metadata": {
        "id": "aSVW2J12GYMj"
      },
      "source": [
        ""
      ],
      "execution_count": null,
      "outputs": []
    },
    {
      "cell_type": "code",
      "metadata": {
        "id": "lPMLlKIOMRLL",
        "colab": {
          "base_uri": "https://localhost:8080/",
          "height": 297
        },
        "outputId": "6d9fdecd-1634-4fae-caaf-04469e551e85"
      },
      "source": [
        "#df_stationary = df.diff()\r\n",
        "df1.plot()"
      ],
      "execution_count": 17,
      "outputs": [
        {
          "output_type": "execute_result",
          "data": {
            "text/plain": [
              "<matplotlib.axes._subplots.AxesSubplot at 0x7ff436ecf160>"
            ]
          },
          "metadata": {
            "tags": []
          },
          "execution_count": 17
        },
        {
          "output_type": "display_data",
          "data": {
            "image/png": "[encoded data removed]",
            "text/plain": [
              "<Figure size 432x288 with 1 Axes>"
            ]
          },
          "metadata": {
            "tags": [],
            "needs_background": "light"
          }
        }
      ]
    },
    {
      "cell_type": "code",
      "metadata": {
        "id": "KlOodumidVTn",
        "colab": {
          "base_uri": "https://localhost:8080/",
          "height": 296
        },
        "outputId": "8b6c8c9c-5dca-4843-ea28-c43567f8d6d7"
      },
      "source": [
        "#df_stationary = df.diff().dropna()\r\n",
        "df_stationary = df1['Sales'].diff()\r\n",
        "df_stationary.plot()"
      ],
      "execution_count": 19,
      "outputs": [
        {
          "output_type": "execute_result",
          "data": {
            "text/plain": [
              "<matplotlib.axes._subplots.AxesSubplot at 0x7ff434b23eb8>"
            ]
          },
          "metadata": {
            "tags": []
          },
          "execution_count": 19
        },
        {
          "output_type": "display_data",
          "data": {
            "image/png": "[encoded data removed]",
            "text/plain": [
              "<Figure size 432x288 with 1 Axes>"
            ]
          },
          "metadata": {
            "tags": [],
            "needs_background": "light"
          }
        }
      ]
    },
    {
      "cell_type": "markdown",
      "metadata": {
        "id": "iDRKaIbPBLmd"
      },
      "source": [
        "__Examples of other transforms:__\r\n",
        "\r\n",
        "Take the log\r\n",
        "np.log(df)\r\n",
        "\r\n",
        "Take the square root\r\n",
        "np.sqrt(df)\r\n",
        "\r\n",
        "Take the proportional change\r\n",
        "df.shift(1)/df"
      ]
    },
    {
      "cell_type": "markdown",
      "metadata": {
        "id": "EGYoWiNQ5S9m"
      },
      "source": [
        "# Task Three: Autocorrelation, ACF and PACF\r\n"
      ]
    },
    {
      "cell_type": "markdown",
      "metadata": {
        "id": "5_7-4yyIFXlY"
      },
      "source": [
        "__ACF:__ Autocorrelation Function\r\n",
        "\r\n",
        "__PACF:__  Partial autocorrelation function"
      ]
    },
    {
      "cell_type": "code",
      "metadata": {
        "id": "VkgxArfLFwME",
        "colab": {
          "base_uri": "https://localhost:8080/",
          "height": 809
        },
        "outputId": "7f4427e8-baaf-49fc-af0b-f32e2a360c38"
      },
      "source": [
        "from statsmodels.graphics.tsaplots import plot_acf, plot_pacf\r\n",
        "\r\n",
        "plot_acf(df['Monthly Mean Total Sunspot Number'].tolist(), lags = 100)\r\n",
        "\r\n",
        "plot_pacf(df['Monthly Mean Total Sunspot Number'].tolist(), lags = 100)"
      ],
      "execution_count": 20,
      "outputs": [
        {
          "output_type": "execute_result",
          "data": {
            "image/png": "[encoded data removed]",
            "text/plain": [
              "<Figure size 432x288 with 1 Axes>"
            ]
          },
          "metadata": {
            "tags": []
          },
          "execution_count": 20
        },
        {
          "output_type": "display_data",
          "data": {
            "image/png": "[encoded data removed]",
            "text/plain": [
              "<Figure size 432x288 with 1 Axes>"
            ]
          },
          "metadata": {
            "tags": [],
            "needs_background": "light"
          }
        },
        {
          "output_type": "display_data",
          "data": {
            "image/png": "[encoded data removed]",
            "text/plain": [
              "<Figure size 432x288 with 1 Axes>"
            ]
          },
          "metadata": {
            "tags": [],
            "needs_background": "light"
          }
        }
      ]
    },
    {
      "cell_type": "code",
      "metadata": {
        "id": "glYw2_vaGAIq"
      },
      "source": [
        ""
      ],
      "execution_count": null,
      "outputs": []
    },
    {
      "cell_type": "code",
      "metadata": {
        "id": "2Virl3NWGAfM"
      },
      "source": [
        ""
      ],
      "execution_count": null,
      "outputs": []
    },
    {
      "cell_type": "markdown",
      "metadata": {
        "id": "oR8FjJup5Wy3"
      },
      "source": [
        "# Task Four: ARIMA Model"
      ]
    },
    {
      "cell_type": "code",
      "metadata": {
        "id": "MkAWAgte7okE",
        "colab": {
          "base_uri": "https://localhost:8080/"
        },
        "outputId": "18f86e82-d779-42df-f9be-d90e981f8b75"
      },
      "source": [
        "Train = df.iloc[:2000, 1]\r\n",
        "Test =  df.iloc[2000:,1]\r\n",
        "\r\n",
        "Train"
      ],
      "execution_count": 23,
      "outputs": [
        {
          "output_type": "execute_result",
          "data": {
            "text/plain": [
              "0        96.7\n",
              "1       104.3\n",
              "2       116.7\n",
              "3        92.8\n",
              "4       141.7\n",
              "        ...  \n",
              "1995     68.9\n",
              "1996     55.1\n",
              "1997    114.7\n",
              "1998    119.4\n",
              "1999    116.0\n",
              "Name: Monthly Mean Total Sunspot Number, Length: 2000, dtype: float64"
            ]
          },
          "metadata": {
            "tags": []
          },
          "execution_count": 23
        }
      ]
    },
    {
      "cell_type": "code",
      "metadata": {
        "id": "sTpd4LsM7orY",
        "colab": {
          "base_uri": "https://localhost:8080/"
        },
        "outputId": "c97ffe54-ad30-44b6-aaff-09125f76171c"
      },
      "source": [
        "Train = [x for x in Train]\r\n",
        "Test = [x for x in Test]\r\n",
        "Train"
      ],
      "execution_count": 25,
      "outputs": [
        {
          "output_type": "execute_result",
          "data": {
            "text/plain": [
              "[96.7,\n",
              " 104.3,\n",
              " 116.7,\n",
              " 92.8,\n",
              " 141.7,\n",
              " 139.2,\n",
              " 158.0,\n",
              " 110.5,\n",
              " 126.5,\n",
              " 125.8,\n",
              " 264.3,\n",
              " 142.0,\n",
              " 122.2,\n",
              " 126.5,\n",
              " 148.7,\n",
              " 147.2,\n",
              " 150.0,\n",
              " 166.7,\n",
              " 142.3,\n",
              " 171.7,\n",
              " 152.0,\n",
              " 109.5,\n",
              " 105.5,\n",
              " 125.7,\n",
              " 116.7,\n",
              " 72.5,\n",
              " 75.5,\n",
              " 94.0,\n",
              " 101.2,\n",
              " 84.5,\n",
              " 110.5,\n",
              " 99.7,\n",
              " 39.2,\n",
              " 38.7,\n",
              " 47.5,\n",
              " 73.3,\n",
              " 58.3,\n",
              " 83.3,\n",
              " 118.3,\n",
              " 98.8,\n",
              " 99.5,\n",
              " 66.0,\n",
              " 130.7,\n",
              " 48.8,\n",
              " 45.2,\n",
              " 77.7,\n",
              " 62.7,\n",
              " 66.7,\n",
              " 73.3,\n",
              " 53.3,\n",
              " 76.2,\n",
              " 63.3,\n",
              " 60.0,\n",
              " 52.8,\n",
              " 36.7,\n",
              " 65.0,\n",
              " 46.7,\n",
              " 41.7,\n",
              " 33.3,\n",
              " 11.2,\n",
              " 0.0,\n",
              " 5.0,\n",
              " 2.8,\n",
              " 22.8,\n",
              " 34.5,\n",
              " 44.5,\n",
              " 31.3,\n",
              " 20.5,\n",
              " 13.7,\n",
              " 40.2,\n",
              " 22.0,\n",
              " 7.0,\n",
              " 17.0,\n",
              " 18.7,\n",
              " 11.3,\n",
              " 10.8,\n",
              " 0.0,\n",
              " 0.0,\n",
              " 14.3,\n",
              " 5.3,\n",
              " 29.7,\n",
              " 39.5,\n",
              " 11.3,\n",
              " 33.3,\n",
              " 20.8,\n",
              " 11.8,\n",
              " 9.0,\n",
              " 15.7,\n",
              " 20.8,\n",
              " 21.5,\n",
              " 6.0,\n",
              " 10.7,\n",
              " 19.7,\n",
              " 23.8,\n",
              " 28.3,\n",
              " 15.7,\n",
              " 23.5,\n",
              " 35.3,\n",
              " 43.7,\n",
              " 50.0,\n",
              " 63.5,\n",
              " 21.3,\n",
              " 41.7,\n",
              " 85.5,\n",
              " 66.2,\n",
              " 54.2,\n",
              " 107.8,\n",
              " 55.8,\n",
              " 62.7,\n",
              " 86.7,\n",
              " 81.7,\n",
              " 120.5,\n",
              " 77.3,\n",
              " 75.0,\n",
              " 73.3,\n",
              " 64.5,\n",
              " 104.2,\n",
              " 62.8,\n",
              " 71.7,\n",
              " 71.7,\n",
              " 80.5,\n",
              " 73.3,\n",
              " 78.0,\n",
              " 78.3,\n",
              " 81.7,\n",
              " 83.3,\n",
              " 85.0,\n",
              " 118.8,\n",
              " 128.7,\n",
              " 99.5,\n",
              " 77.2,\n",
              " 95.0,\n",
              " 112.2,\n",
              " 99.2,\n",
              " 124.5,\n",
              " 97.2,\n",
              " 120.0,\n",
              " 80.5,\n",
              " 110.0,\n",
              " 126.0,\n",
              " 102.2,\n",
              " 84.3,\n",
              " 99.5,\n",
              " 101.7,\n",
              " 116.7,\n",
              " 151.7,\n",
              " 134.5,\n",
              " 119.5,\n",
              " 178.7,\n",
              " 165.5,\n",
              " 156.8,\n",
              " 151.8,\n",
              " 167.8,\n",
              " 147.8,\n",
              " 149.5,\n",
              " 76.7,\n",
              " 73.0,\n",
              " 121.3,\n",
              " 76.2,\n",
              " 100.3,\n",
              " 66.5,\n",
              " 128.5,\n",
              " 56.3,\n",
              " 112.8,\n",
              " 114.2,\n",
              " 115.5,\n",
              " 129.7,\n",
              " 128.7,\n",
              " 94.2,\n",
              " 53.2,\n",
              " 57.0,\n",
              " 54.8,\n",
              " 54.5,\n",
              " 59.7,\n",
              " 90.3,\n",
              " 44.2,\n",
              " 113.5,\n",
              " 77.2,\n",
              " 101.5,\n",
              " 102.3,\n",
              " 99.5,\n",
              " 99.5,\n",
              " 67.0,\n",
              " 57.3,\n",
              " 73.8,\n",
              " 50.0,\n",
              " 50.0,\n",
              " 50.0,\n",
              " 47.0,\n",
              " 46.7,\n",
              " 43.3,\n",
              " 42.8,\n",
              " 40.0,\n",
              " 43.3,\n",
              " 41.7,\n",
              " 36.7,\n",
              " 33.7,\n",
              " 33.3,\n",
              " 45.0,\n",
              " 49.5,\n",
              " 26.7,\n",
              " 23.3,\n",
              " 23.3,\n",
              " 21.7,\n",
              " 20.0,\n",
              " 18.3,\n",
              " 61.0,\n",
              " 10.0,\n",
              " 44.7,\n",
              " 5.0,\n",
              " 5.5,\n",
              " 6.7,\n",
              " 7.2,\n",
              " 8.3,\n",
              " 9.5,\n",
              " 32.0,\n",
              " 45.7,\n",
              " 50.0,\n",
              " 71.7,\n",
              " 54.8,\n",
              " 49.7,\n",
              " 55.5,\n",
              " 36.5,\n",
              " 68.0,\n",
              " 71.2,\n",
              " 73.5,\n",
              " 91.2,\n",
              " 88.8,\n",
              " 89.2,\n",
              " 110.2,\n",
              " 77.2,\n",
              " 71.2,\n",
              " 129.5,\n",
              " 129.0,\n",
              " 87.7,\n",
              " 111.3,\n",
              " 124.7,\n",
              " 129.7,\n",
              " 151.0,\n",
              " 186.3,\n",
              " 123.2,\n",
              " 107.0,\n",
              " 107.2,\n",
              " 161.2,\n",
              " 122.7,\n",
              " 157.3,\n",
              " 197.7,\n",
              " 200.5,\n",
              " 248.0,\n",
              " 263.7,\n",
              " 246.8,\n",
              " 186.7,\n",
              " 173.3,\n",
              " 237.5,\n",
              " 133.5,\n",
              " 85.0,\n",
              " 116.8,\n",
              " 138.8,\n",
              " 183.0,\n",
              " 210.5,\n",
              " 174.0,\n",
              " 172.7,\n",
              " 220.3,\n",
              " 170.5,\n",
              " 60.0,\n",
              " 77.0,\n",
              " 77.8,\n",
              " 108.2,\n",
              " 254.5,\n",
              " 199.2,\n",
              " 112.8,\n",
              " 97.5,\n",
              " 169.0,\n",
              " 150.0,\n",
              " 166.2,\n",
              " 159.5,\n",
              " 168.2,\n",
              " 151.3,\n",
              " 51.8,\n",
              " 153.7,\n",
              " 63.3,\n",
              " 95.0,\n",
              " 128.8,\n",
              " 93.7,\n",
              " 84.2,\n",
              " 131.0,\n",
              " 102.2,\n",
              " 106.7,\n",
              " 91.0,\n",
              " 48.3,\n",
              " 85.3,\n",
              " 54.8,\n",
              " 68.5,\n",
              " 47.3,\n",
              " 46.2,\n",
              " 21.2,\n",
              " 48.8,\n",
              " 43.8,\n",
              " 68.2,\n",
              " 72.0,\n",
              " 78.0,\n",
              " 109.0,\n",
              " 92.8,\n",
              " 73.0,\n",
              " 85.5,\n",
              " 47.5,\n",
              " 29.2,\n",
              " 11.0,\n",
              " 13.2,\n",
              " 23.3,\n",
              " 29.5,\n",
              " 20.3,\n",
              " 7.3,\n",
              " 0.0,\n",
              " 19.3,\n",
              " 18.7,\n",
              " 6.5,\n",
              " 20.5,\n",
              " 1.7,\n",
              " 13.2,\n",
              " 5.3,\n",
              " 9.3,\n",
              " 25.2,\n",
              " 13.2,\n",
              " 36.2,\n",
              " 19.3,\n",
              " 10.5,\n",
              " 36.3,\n",
              " 18.7,\n",
              " 31.7,\n",
              " 1.7,\n",
              " 40.3,\n",
              " 26.7,\n",
              " 50.0,\n",
              " 58.3,\n",
              " 66.7,\n",
              " 75.0,\n",
              " 60.8,\n",
              " 65.0,\n",
              " 159.2,\n",
              " 133.8,\n",
              " 134.5,\n",
              " 158.3,\n",
              " 186.7,\n",
              " 193.7,\n",
              " 177.5,\n",
              " 243.3,\n",
              " 262.2,\n",
              " 295.5,\n",
              " 182.2,\n",
              " 223.3,\n",
              " 241.7,\n",
              " 398.2,\n",
              " 286.0,\n",
              " 255.0,\n",
              " 233.3,\n",
              " 286.2,\n",
              " 260.5,\n",
              " 250.5,\n",
              " 175.0,\n",
              " 191.2,\n",
              " 276.2,\n",
              " 196.7,\n",
              " 241.7,\n",
              " 233.3,\n",
              " 189.5,\n",
              " 238.3,\n",
              " 186.7,\n",
              " 185.0,\n",
              " 206.7,\n",
              " 190.0,\n",
              " 183.3,\n",
              " 116.7,\n",
              " 163.3,\n",
              " 163.3,\n",
              " 158.3,\n",
              " 178.7,\n",
              " 146.7,\n",
              " 143.3,\n",
              " 143.3,\n",
              " 156.2,\n",
              " 128.3,\n",
              " 100.0,\n",
              " 97.8,\n",
              " 164.5,\n",
              " 124.5,\n",
              " 88.3,\n",
              " 113.8,\n",
              " 174.5,\n",
              " 162.8,\n",
              " 122.5,\n",
              " 110.0,\n",
              " 85.0,\n",
              " 45.5,\n",
              " 111.7,\n",
              " 58.7,\n",
              " 90.0,\n",
              " 62.5,\n",
              " 61.7,\n",
              " 68.3,\n",
              " 90.5,\n",
              " 63.3,\n",
              " 61.7,\n",
              " 73.3,\n",
              " 56.7,\n",
              " 38.7,\n",
              " 52.5,\n",
              " 50.0,\n",
              " 46.7,\n",
              " 64.5,\n",
              " 44.5,\n",
              " 47.2,\n",
              " 38.3,\n",
              " 42.0,\n",
              " 53.7,\n",
              " 33.3,\n",
              " 30.0,\n",
              " 13.3,\n",
              " 25.0,\n",
              " 17.5,\n",
              " 21.7,\n",
              " 13.3,\n",
              " 18.3,\n",
              " 16.7,\n",
              " 10.0,\n",
              " 15.0,\n",
              " 10.0,\n",
              " 16.7,\n",
              " 16.7,\n",
              " 13.3,\n",
              " 28.3,\n",
              " 23.3,\n",
              " 10.8,\n",
              " 13.3,\n",
              " 15.0,\n",
              " 26.2,\n",
              " 34.5,\n",
              " 43.8,\n",
              " 60.5,\n",
              " 33.3,\n",
              " 53.3,\n",
              " 78.7,\n",
              " 67.0,\n",
              " 45.5,\n",
              " 62.0,\n",
              " 79.3,\n",
              " 79.5,\n",
              " 142.3,\n",
              " 153.8,\n",
              " 98.3,\n",
              " 138.3,\n",
              " 149.5,\n",
              " 185.8,\n",
              " 187.2,\n",
              " 193.3,\n",
              " 187.8,\n",
              " 224.5,\n",
              " 176.7,\n",
              " 145.7,\n",
              " 212.0,\n",
              " 224.7,\n",
              " 165.3,\n",
              " 213.3,\n",
              " 228.7,\n",
              " 262.2,\n",
              " 261.7,\n",
              " 235.8,\n",
              " 290.0,\n",
              " 230.0,\n",
              " 215.3,\n",
              " 238.8,\n",
              " 180.8,\n",
              " 188.3,\n",
              " 257.0,\n",
              " 235.8,\n",
              " 226.7,\n",
              " 235.0,\n",
              " 236.7,\n",
              " 157.8,\n",
              " 215.8,\n",
              " 190.0,\n",
              " 208.8,\n",
              " 200.0,\n",
              " 205.5,\n",
              " 205.8,\n",
              " 200.0,\n",
              " 195.0,\n",
              " 171.7,\n",
              " 186.7,\n",
              " 149.5,\n",
              " 223.3,\n",
              " 225.8,\n",
              " 171.7,\n",
              " 212.5,\n",
              " 160.5,\n",
              " 156.7,\n",
              " 155.0,\n",
              " 151.7,\n",
              " 115.5,\n",
              " 145.0,\n",
              " 128.8,\n",
              " 140.5,\n",
              " 136.7,\n",
              " 123.3,\n",
              " 121.2,\n",
              " 103.3,\n",
              " 123.3,\n",
              " 128.7,\n",
              " 122.8,\n",
              " 107.0,\n",
              " 118.3,\n",
              " 71.7,\n",
              " 110.8,\n",
              " 102.8,\n",
              " 111.7,\n",
              " 110.0,\n",
              " 96.7,\n",
              " 106.7,\n",
              " 105.0,\n",
              " 126.2,\n",
              " 103.3,\n",
              " 101.7,\n",
              " 76.3,\n",
              " 100.0,\n",
              " 98.3,\n",
              " 98.3,\n",
              " 95.0,\n",
              " 93.3,\n",
              " 93.3,\n",
              " 91.7,\n",
              " 92.5,\n",
              " 88.3,\n",
              " 87.2,\n",
              " 85.0,\n",
              " 83.3,\n",
              " 48.8,\n",
              " 40.0,\n",
              " 78.3,\n",
              " 73.3,\n",
              " 76.2,\n",
              " 75.0,\n",
              " 73.3,\n",
              " 63.3,\n",
              " 47.3,\n",
              " 92.8,\n",
              " 69.2,\n",
              " 68.3,\n",
              " 66.7,\n",
              " 18.5,\n",
              " 47.5,\n",
              " 112.3,\n",
              " 85.7,\n",
              " 35.7,\n",
              " 66.5,\n",
              " 21.0,\n",
              " 31.0,\n",
              " 51.7,\n",
              " 28.5,\n",
              " 21.5,\n",
              " 42.8,\n",
              " 22.5,\n",
              " 32.5,\n",
              " 41.7,\n",
              " 30.0,\n",
              " 36.7,\n",
              " 39.7,\n",
              " 26.2,\n",
              " 52.8,\n",
              " 35.0,\n",
              " 11.2,\n",
              " 44.8,\n",
              " 2.5,\n",
              " 30.7,\n",
              " 18.3,\n",
              " 14.0,\n",
              " 8.5,\n",
              " 24.0,\n",
              " 7.0,\n",
              " 6.7,\n",
              " 6.7,\n",
              " 12.2,\n",
              " 18.5,\n",
              " 7.2,\n",
              " 10.0,\n",
              " 9.5,\n",
              " 11.5,\n",
              " 9.7,\n",
              " 5.0,\n",
              " 3.3,\n",
              " 6.7,\n",
              " 20.7,\n",
              " 1.8,\n",
              " 0.0,\n",
              " 0.0,\n",
              " 0.0,\n",
              " 5.0,\n",
              " 4.0,\n",
              " 2.5,\n",
              " 20.8,\n",
              " 16.5,\n",
              " 2.7,\n",
              " 21.0,\n",
              " 36.2,\n",
              " 14.0,\n",
              " 13.7,\n",
              " 17.7,\n",
              " 3.5,\n",
              " 0.0,\n",
              " 0.0,\n",
              " 7.7,\n",
              " 4.5,\n",
              " 14.3,\n",
              " 11.5,\n",
              " 15.5,\n",
              " 23.2,\n",
              " 0.0,\n",
              " 8.3,\n",
              " 39.5,\n",
              " 35.0,\n",
              " 32.5,\n",
              " 19.2,\n",
              " 20.5,\n",
              " 17.5,\n",
              " 66.8,\n",
              " 45.0,\n",
              " 48.3,\n",
              " 50.0,\n",
              " 51.7,\n",
              " 53.3,\n",
              " 52.0,\n",
              " 58.3,\n",
              " 64.5,\n",
              " 55.8,\n",
              " 54.3,\n",
              " 66.3,\n",
              " 80.3,\n",
              " 79.7,\n",
              " 78.3,\n",
              " 68.0,\n",
              " 70.0,\n",
              " 73.3,\n",
              " 76.7,\n",
              " 80.0,\n",
              " 83.3,\n",
              " 86.3,\n",
              " 64.2,\n",
              " 57.5,\n",
              " 83.3,\n",
              " 83.3,\n",
              " 84.7,\n",
              " 49.2,\n",
              " 41.7,\n",
              " 73.8,\n",
              " 60.0,\n",
              " 80.5,\n",
              " 56.8,\n",
              " 75.5,\n",
              " 90.5,\n",
              " 85.0,\n",
              " 80.0,\n",
              " 75.5,\n",
              " 80.5,\n",
              " 80.0,\n",
              " 84.3,\n",
              " 55.7,\n",
              " 58.0,\n",
              " 49.7,\n",
              " 71.8,\n",
              " 88.3,\n",
              " 103.8,\n",
              " 101.7,\n",
              " 100.0,\n",
              " 101.7,\n",
              " 73.5,\n",
              " 85.7,\n",
              " 62.5,\n",
              " 65.0,\n",
              " 67.5,\n",
              " 62.7,\n",
              " 71.2,\n",
              " 74.0,\n",
              " 49.0,\n",
              " 68.3,\n",
              " 63.8,\n",
              " 65.0,\n",
              " 49.3,\n",
              " 54.5,\n",
              " 46.2,\n",
              " 44.0,\n",
              " 42.7,\n",
              " 50.0,\n",
              " 43.8,\n",
              " 40.0,\n",
              " 45.0,\n",
              " 41.7,\n",
              " 40.0,\n",
              " 20.0,\n",
              " 20.3,\n",
              " 16.0,\n",
              " 39.7,\n",
              " 16.7,\n",
              " 20.0,\n",
              " 21.2,\n",
              " 20.0,\n",
              " 9.5,\n",
              " 13.3,\n",
              " 4.3,\n",
              " 0.0,\n",
              " 0.0,\n",
              " 7.5,\n",
              " 0.0,\n",
              " 20.5,\n",
              " 22.5,\n",
              " 22.5,\n",
              " 11.2,\n",
              " 13.3,\n",
              " 19.5,\n",
              " 7.8,\n",
              " 17.5,\n",
              " 20.5,\n",
              " 12.0,\n",
              " 15.3,\n",
              " 1.5,\n",
              " 4.2,\n",
              " 3.3,\n",
              " 12.8,\n",
              " 0.5,\n",
              " 0.3,\n",
              " 0.7,\n",
              " 0.0,\n",
              " 0.0,\n",
              " 0.0,\n",
              " 0.0,\n",
              " 0.0,\n",
              " 0.0,\n",
              " 0.0,\n",
              " 0.0,\n",
              " 0.0,\n",
              " 0.0,\n",
              " 0.0,\n",
              " 0.0,\n",
              " 0.0,\n",
              " 0.0,\n",
              " 0.0,\n",
              " 0.0,\n",
              " 0.0,\n",
              " 0.0,\n",
              " 0.0,\n",
              " 0.0,\n",
              " 0.0,\n",
              " 11.0,\n",
              " 0.0,\n",
              " 4.0,\n",
              " 10.2,\n",
              " 1.3,\n",
              " 1.8,\n",
              " 18.8,\n",
              " 3.2,\n",
              " 1.2,\n",
              " 0.0,\n",
              " 1.7,\n",
              " 2.2,\n",
              " 0.8,\n",
              " 26.0,\n",
              " 8.7,\n",
              " 6.5,\n",
              " 13.2,\n",
              " 16.8,\n",
              " 0.0,\n",
              " 17.2,\n",
              " 3.2,\n",
              " 27.7,\n",
              " 9.2,\n",
              " 18.7,\n",
              " 30.5,\n",
              " 14.0,\n",
              " 25.5,\n",
              " 46.3,\n",
              " 27.8,\n",
              " 23.8,\n",
              " 37.0,\n",
              " 20.0,\n",
              " 9.5,\n",
              " 39.7,\n",
              " 9.7,\n",
              " 24.8,\n",
              " 30.8,\n",
              " 3.8,\n",
              " 13.5,\n",
              " 32.2,\n",
              " 24.2,\n",
              " 33.5,\n",
              " 32.0,\n",
              " 53.7,\n",
              " 43.7,\n",
              " 52.7,\n",
              " 16.3,\n",
              " 93.2,\n",
              " 59.2,\n",
              " 78.7,\n",
              " 52.5,\n",
              " 55.8,\n",
              " 62.0,\n",
              " 108.3,\n",
              " 43.8,\n",
              " 114.7,\n",
              " 122.8,\n",
              " 98.0,\n",
              " 73.8,\n",
              " 72.7,\n",
              " 64.7,\n",
              " 38.7,\n",
              " 79.7,\n",
              " 94.0,\n",
              " 63.5,\n",
              " 49.8,\n",
              " 60.7,\n",
              " 96.5,\n",
              " 160.3,\n",
              " 44.0,\n",
              " 35.3,\n",
              " 66.7,\n",
              " 83.3,\n",
              " 75.0,\n",
              " 61.2,\n",
              " 42.7,\n",
              " 48.2,\n",
              " 47.3,\n",
              " 58.1,\n",
              " 37.4,\n",
              " 42.4,\n",
              " 57.5,\n",
              " 88.5,\n",
              " 60.8,\n",
              " 46.8,\n",
              " 52.6,\n",
              " 43.4,\n",
              " 52.8,\n",
              " 18.3,\n",
              " 43.0,\n",
              " 54.7,\n",
              " 34.6,\n",
              " 6.3,\n",
              " 33.7,\n",
              " 32.6,\n",
              " 58.3,\n",
              " 52.5,\n",
              " 43.5,\n",
              " 24.8,\n",
              " 45.9,\n",
              " 41.8,\n",
              " 50.9,\n",
              " 32.0,\n",
              " 44.4,\n",
              " 7.5,\n",
              " 32.3,\n",
              " 48.9,\n",
              " 17.9,\n",
              " 34.1,\n",
              " 43.1,\n",
              " 8.6,\n",
              " 14.9,\n",
              " 13.2,\n",
              " 15.1,\n",
              " 36.0,\n",
              " 7.0,\n",
              " 9.5,\n",
              " 15.2,\n",
              " 2.8,\n",
              " 3.0,\n",
              " 4.3,\n",
              " 8.0,\n",
              " 7.3,\n",
              " 31.4,\n",
              " 7.3,\n",
              " 0.4,\n",
              " 0.0,\n",
              " 1.5,\n",
              " 26.9,\n",
              " 21.7,\n",
              " 2.4,\n",
              " 9.3,\n",
              " 13.2,\n",
              " 3.4,\n",
              " 0.0,\n",
              " 0.6,\n",
              " 0.0,\n",
              " 0.0,\n",
              " 0.0,\n",
              " 0.0,\n",
              " 1.0,\n",
              " 0.0,\n",
              " 0.0,\n",
              " 0.0,\n",
              " 0.8,\n",
              " 0.0,\n",
              " 0.0,\n",
              " 0.0,\n",
              " 0.0,\n",
              " 34.0,\n",
              " 36.0,\n",
              " 18.0,\n",
              " 0.0,\n",
              " 32.3,\n",
              " 4.6,\n",
              " 0.0,\n",
              " 0.0,\n",
              " 2.3,\n",
              " 34.3,\n",
              " 42.0,\n",
              " 0.0,\n",
              " 1.4,\n",
              " 8.4,\n",
              " 25.9,\n",
              " 37.4,\n",
              " 6.2,\n",
              " 25.8,\n",
              " 25.6,\n",
              " 51.5,\n",
              " 42.8,\n",
              " 26.2,\n",
              " 26.0,\n",
              " 19.6,\n",
              " 36.7,\n",
              " 29.4,\n",
              " 30.2,\n",
              " 61.3,\n",
              " 40.0,\n",
              " 53.9,\n",
              " 61.7,\n",
              " 87.5,\n",
              " 66.0,\n",
              " 31.6,\n",
              " 84.4,\n",
              " 65.8,\n",
              " 113.6,\n",
              " 57.7,\n",
              " 79.0,\n",
              " 96.3,\n",
              " 76.7,\n",
              " 93.8,\n",
              " 94.4,\n",
              " 70.4,\n",
              " 89.4,\n",
              " 82.6,\n",
              " 93.5,\n",
              " 80.4,\n",
              " 76.8,\n",
              " 88.0,\n",
              " 107.3,\n",
              " 108.5,\n",
              " 101.9,\n",
              " 148.6,\n",
              " 163.4,\n",
              " 90.4,\n",
              " 127.3,\n",
              " 83.9,\n",
              " 91.1,\n",
              " 95.0,\n",
              " 78.1,\n",
              " 71.6,\n",
              " 82.3,\n",
              " 120.6,\n",
              " 158.4,\n",
              " 112.3,\n",
              " 123.2,\n",
              " 151.5,\n",
              " 129.3,\n",
              " 88.0,\n",
              " 95.3,\n",
              " 112.7,\n",
              " 94.1,\n",
              " 87.0,\n",
              " 120.1,\n",
              " 141.0,\n",
              " 177.3,\n",
              " 110.5,\n",
              " 108.4,\n",
              " 73.2,\n",
              " 84.6,\n",
              " 103.4,\n",
              " 140.6,\n",
              " 135.4,\n",
              " 136.8,\n",
              " 79.0,\n",
              " 83.6,\n",
              " 155.8,\n",
              " 90.9,\n",
              " 63.4,\n",
              " 55.6,\n",
              " 75.4,\n",
              " 91.6,\n",
              " 63.2,\n",
              " 77.1,\n",
              " 72.5,\n",
              " 48.3,\n",
              " 51.5,\n",
              " 92.6,\n",
              " 91.9,\n",
              " 44.8,\n",
              " ...]"
            ]
          },
          "metadata": {
            "tags": []
          },
          "execution_count": 25
        }
      ]
    },
    {
      "cell_type": "code",
      "metadata": {
        "id": "TdXivKdS7owL",
        "colab": {
          "base_uri": "https://localhost:8080/"
        },
        "outputId": "224bc23b-a38c-4a8c-e394-8dbad25c6089"
      },
      "source": [
        "from statsmodels.tsa.arima_model import ARIMA\r\n",
        "\r\n",
        "pred = []\r\n",
        "low_bound = []\r\n",
        "up_bound = []\r\n",
        "\r\n",
        "for data in range(len(Test)):\r\n",
        "  model = ARIMA(Train, order=(5, 0, 2)) \r\n",
        "  model_fir = model.fit(disp = 0)\r\n",
        "  out = model_fir.forecast()\r\n",
        "\r\n",
        "  result = out[0]\r\n",
        "  lower = out[2][0][0]\r\n",
        "  upper = out[2][0][1]\r\n",
        "\r\n",
        "  pred.append(result)\r\n",
        "  low_bound.append(lower)\r\n",
        "  up_bound.append(upper)\r\n",
        "\r\n",
        "  obs = Test[data]\r\n",
        "  Train.append(obs)\r\n",
        "\r\n",
        "  print('Actual value : ', obs, 'Prediction : ', result )"
      ],
      "execution_count": null,
      "outputs": [
        {
          "output_type": "stream",
          "text": [
            "Actual value :  82.4 Prediction :  [7.57763421]\n"
          ],
          "name": "stdout"
        },
        {
          "output_type": "stream",
          "text": [
            "/usr/local/lib/python3.6/dist-packages/statsmodels/tsa/tsatools.py:668: RuntimeWarning: overflow encountered in exp\n",
            "  newparams = ((1-np.exp(-params))/(1+np.exp(-params))).copy()\n",
            "/usr/local/lib/python3.6/dist-packages/statsmodels/tsa/tsatools.py:668: RuntimeWarning: invalid value encountered in true_divide\n",
            "  newparams = ((1-np.exp(-params))/(1+np.exp(-params))).copy()\n",
            "/usr/local/lib/python3.6/dist-packages/statsmodels/tsa/tsatools.py:669: RuntimeWarning: overflow encountered in exp\n",
            "  tmp = ((1-np.exp(-params))/(1+np.exp(-params))).copy()\n",
            "/usr/local/lib/python3.6/dist-packages/statsmodels/tsa/tsatools.py:669: RuntimeWarning: invalid value encountered in true_divide\n",
            "  tmp = ((1-np.exp(-params))/(1+np.exp(-params))).copy()\n"
          ],
          "name": "stderr"
        },
        {
          "output_type": "stream",
          "text": [
            "Actual value :  89.1 Prediction :  [49.31515344]\n"
          ],
          "name": "stdout"
        }
      ]
    },
    {
      "cell_type": "code",
      "metadata": {
        "id": "I4xq1aoi7ozd"
      },
      "source": [
        ""
      ],
      "execution_count": null,
      "outputs": []
    },
    {
      "cell_type": "code",
      "metadata": {
        "id": "u_PwYxRH7o3d"
      },
      "source": [
        ""
      ],
      "execution_count": null,
      "outputs": []
    },
    {
      "cell_type": "code",
      "metadata": {
        "id": "xhTHPtsc7o8S"
      },
      "source": [
        ""
      ],
      "execution_count": null,
      "outputs": []
    },
    {
      "cell_type": "code",
      "metadata": {
        "id": "GXkVBLt_7o-p"
      },
      "source": [
        ""
      ],
      "execution_count": null,
      "outputs": []
    },
    {
      "cell_type": "markdown",
      "metadata": {
        "id": "20IxKlqqFxIC"
      },
      "source": [
        "__AIC - Akaike information criterion__\r\n",
        "\r\n",
        "Lower AIC indicates a better model\r\n",
        "\r\n",
        "AIC likes to choose simple models with lower order"
      ]
    },
    {
      "cell_type": "markdown",
      "metadata": {
        "id": "zCDczuFeF2Z4"
      },
      "source": [
        "__BIC - Bayesian information criterion__\r\n",
        "\r\n",
        "\r\n",
        "Lower BIC indicates a better model\r\n",
        "\r\n",
        "BIC likes to choose simple models with lower order"
      ]
    },
    {
      "cell_type": "code",
      "metadata": {
        "id": "__XH0XnT5Zog"
      },
      "source": [
        "import matplotlib as mpl\r\n",
        "\r\n",
        "mpl.rcParams['figure.figsize'] = (18, 7)\r\n",
        "mpl.rcParams['axes.grid'] = False\r\n",
        "\r\n",
        "# plot\r\n",
        "plt.plot(Test,color='black',linewidth=1)\r\n",
        "plt.plot(lower_list,color='red',linewidth=1)\r\n",
        "plt.plot(upper_list,color='green',linewidth=1)\r\n",
        "plt.plot(predictions,linewidth=1)\r\n",
        "plt.show()"
      ],
      "execution_count": null,
      "outputs": []
    },
    {
      "cell_type": "code",
      "metadata": {
        "id": "Lh-s1uUQ5Z2J"
      },
      "source": [
        ""
      ],
      "execution_count": null,
      "outputs": []
    },
    {
      "cell_type": "markdown",
      "metadata": {
        "id": "jSAVIWYd5aKm"
      },
      "source": [
        "# Task Five: ARIMA Automation"
      ]
    },
    {
      "cell_type": "code",
      "metadata": {
        "id": "iefaVmiiG9be",
        "colab": {
          "base_uri": "https://localhost:8080/"
        },
        "outputId": "6177897b-f7b8-4200-e0e8-9f30613db964"
      },
      "source": [
        "!pip install pmdarima"
      ],
      "execution_count": 1,
      "outputs": [
        {
          "output_type": "stream",
          "text": [
            "Collecting pmdarima\n",
            "\u001b[?25l  Downloading https://files.pythonhosted.org/packages/c9/d7/61af1897449638822f97c8b43ef0c2fce2ec68a6cda9a43ebbbdd12b967c/pmdarima-1.8.0-cp36-cp36m-manylinux1_x86_64.whl (1.5MB)\n",
            "\u001b[K     |████████████████████████████████| 1.5MB 6.1MB/s \n",
            "\u001b[?25hRequirement already satisfied: scipy>=1.3.2 in /usr/local/lib/python3.6/dist-packages (from pmdarima) (1.4.1)\n",
            "Requirement already satisfied: numpy>=1.17.3 in /usr/local/lib/python3.6/dist-packages (from pmdarima) (1.19.4)\n",
            "Collecting Cython<0.29.18,>=0.29\n",
            "\u001b[?25l  Downloading https://files.pythonhosted.org/packages/e7/d7/510ddef0248f3e1e91f9cc7e31c0f35f8954d0af92c5c3fd4c853e859ebe/Cython-0.29.17-cp36-cp36m-manylinux1_x86_64.whl (2.1MB)\n",
            "\u001b[K     |████████████████████████████████| 2.1MB 23.2MB/s \n",
            "\u001b[?25hRequirement already satisfied: urllib3 in /usr/local/lib/python3.6/dist-packages (from pmdarima) (1.24.3)\n",
            "Requirement already satisfied: scikit-learn>=0.22 in /usr/local/lib/python3.6/dist-packages (from pmdarima) (0.22.2.post1)\n",
            "Collecting statsmodels!=0.12.0,>=0.11\n",
            "\u001b[?25l  Downloading https://files.pythonhosted.org/packages/be/4c/9e2435ca6645d6bafa2b51bb11f0a365b28934a2ffe9d6e339d67130926d/statsmodels-0.12.1-cp36-cp36m-manylinux1_x86_64.whl (9.5MB)\n",
            "\u001b[K     |████████████████████████████████| 9.5MB 39.8MB/s \n",
            "\u001b[?25hRequirement already satisfied: setuptools!=50.0.0,>=38.6.0 in /usr/local/lib/python3.6/dist-packages (from pmdarima) (51.0.0)\n",
            "Requirement already satisfied: joblib>=0.11 in /usr/local/lib/python3.6/dist-packages (from pmdarima) (1.0.0)\n",
            "Requirement already satisfied: pandas>=0.19 in /usr/local/lib/python3.6/dist-packages (from pmdarima) (1.1.5)\n",
            "Requirement already satisfied: patsy>=0.5 in /usr/local/lib/python3.6/dist-packages (from statsmodels!=0.12.0,>=0.11->pmdarima) (0.5.1)\n",
            "Requirement already satisfied: pytz>=2017.2 in /usr/local/lib/python3.6/dist-packages (from pandas>=0.19->pmdarima) (2018.9)\n",
            "Requirement already satisfied: python-dateutil>=2.7.3 in /usr/local/lib/python3.6/dist-packages (from pandas>=0.19->pmdarima) (2.8.1)\n",
            "Requirement already satisfied: six in /usr/local/lib/python3.6/dist-packages (from patsy>=0.5->statsmodels!=0.12.0,>=0.11->pmdarima) (1.15.0)\n",
            "Installing collected packages: Cython, statsmodels, pmdarima\n",
            "  Found existing installation: Cython 0.29.21\n",
            "    Uninstalling Cython-0.29.21:\n",
            "      Successfully uninstalled Cython-0.29.21\n",
            "  Found existing installation: statsmodels 0.10.2\n",
            "    Uninstalling statsmodels-0.10.2:\n",
            "      Successfully uninstalled statsmodels-0.10.2\n",
            "Successfully installed Cython-0.29.17 pmdarima-1.8.0 statsmodels-0.12.1\n"
          ],
          "name": "stdout"
        }
      ]
    },
    {
      "cell_type": "markdown",
      "metadata": {
        "id": "dnjAJZrYZ4pC"
      },
      "source": [
        "lower the AIC better the model"
      ]
    },
    {
      "cell_type": "markdown",
      "metadata": {
        "id": "6mXm5gmqZ4cD"
      },
      "source": [
        ""
      ]
    },
    {
      "cell_type": "code",
      "metadata": {
        "id": "PIpcwOzl74MA",
        "colab": {
          "base_uri": "https://localhost:8080/"
        },
        "outputId": "62cb626a-757c-48c9-bb70-798fcf0938dd"
      },
      "source": [
        "import pmdarima as pm\r\n",
        "\r\n",
        "model = pm.auto_arima(df['Monthly Mean Total Sunspot Number'], m = 11, seasonal = True, start_q=0, start_p = 0, \r\n",
        "                      max_order = 5, erroe_action = 'ignore', stepwise = True, trace = True)"
      ],
      "execution_count": null,
      "outputs": [
        {
          "output_type": "stream",
          "text": [
            "Performing stepwise search to minimize aic\n",
            " ARIMA(0,0,0)(1,0,1)[11] intercept   : AIC=33844.892, Time=6.82 sec\n",
            " ARIMA(0,0,0)(0,0,0)[11] intercept   : AIC=36662.504, Time=0.09 sec\n",
            " ARIMA(1,0,0)(1,0,0)[11] intercept   : AIC=30651.060, Time=4.84 sec\n",
            " ARIMA(0,0,1)(0,0,1)[11] intercept   : AIC=33078.193, Time=5.02 sec\n",
            " ARIMA(0,0,0)(0,0,0)[11]             : AIC=39591.690, Time=0.06 sec\n",
            " ARIMA(1,0,0)(0,0,0)[11] intercept   : AIC=30655.087, Time=0.29 sec\n",
            " ARIMA(1,0,0)(2,0,0)[11] intercept   : AIC=30652.587, Time=16.17 sec\n",
            " ARIMA(1,0,0)(1,0,1)[11] intercept   : AIC=30652.715, Time=5.19 sec\n",
            " ARIMA(1,0,0)(0,0,1)[11] intercept   : AIC=30651.231, Time=3.79 sec\n",
            " ARIMA(1,0,0)(2,0,1)[11] intercept   : AIC=30654.714, Time=18.73 sec\n",
            " ARIMA(0,0,0)(1,0,0)[11] intercept   : AIC=33995.544, Time=3.71 sec\n",
            " ARIMA(2,0,0)(1,0,0)[11] intercept   : AIC=30402.095, Time=6.09 sec\n",
            " ARIMA(2,0,0)(0,0,0)[11] intercept   : AIC=30404.772, Time=0.29 sec\n",
            " ARIMA(2,0,0)(2,0,0)[11] intercept   : AIC=30403.887, Time=22.97 sec\n",
            " ARIMA(2,0,0)(1,0,1)[11] intercept   : AIC=30403.902, Time=11.71 sec\n",
            " ARIMA(2,0,0)(0,0,1)[11] intercept   : AIC=30402.179, Time=5.03 sec\n",
            " ARIMA(2,0,0)(2,0,1)[11] intercept   : AIC=30405.975, Time=22.05 sec\n",
            " ARIMA(3,0,0)(1,0,0)[11] intercept   : AIC=30279.231, Time=10.77 sec\n",
            " ARIMA(3,0,0)(0,0,0)[11] intercept   : AIC=30284.812, Time=0.41 sec\n",
            " ARIMA(3,0,0)(2,0,0)[11] intercept   : AIC=30281.146, Time=31.61 sec\n",
            " ARIMA(3,0,0)(1,0,1)[11] intercept   : AIC=30281.156, Time=18.82 sec\n",
            " ARIMA(3,0,0)(0,0,1)[11] intercept   : AIC=30279.172, Time=7.01 sec\n",
            " ARIMA(3,0,0)(0,0,2)[11] intercept   : AIC=30281.154, Time=21.96 sec\n",
            " ARIMA(3,0,0)(1,0,2)[11] intercept   : AIC=30278.316, Time=36.16 sec\n",
            " ARIMA(3,0,0)(2,0,2)[11] intercept   : AIC=30282.644, Time=42.30 sec\n",
            " ARIMA(3,0,0)(2,0,1)[11] intercept   : AIC=30277.748, Time=41.61 sec\n",
            " ARIMA(4,0,0)(2,0,1)[11] intercept   : AIC=30211.623, Time=45.93 sec\n",
            " ARIMA(4,0,0)(1,0,1)[11] intercept   : AIC=30215.791, Time=20.84 sec\n",
            " ARIMA(4,0,0)(2,0,0)[11] intercept   : AIC=30215.790, Time=33.74 sec\n"
          ],
          "name": "stdout"
        }
      ]
    },
    {
      "cell_type": "code",
      "metadata": {
        "id": "o8jPR48j74Vb"
      },
      "source": [
        "model.plot_diagnostics(figsize = (16, 5))"
      ],
      "execution_count": null,
      "outputs": []
    }
  ]
}